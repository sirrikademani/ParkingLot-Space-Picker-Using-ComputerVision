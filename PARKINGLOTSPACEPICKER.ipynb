{
 "cells": [
  {
   "cell_type": "code",
   "execution_count": 1,
   "id": "8e2df746",
   "metadata": {},
   "outputs": [
    {
     "name": "stdout",
     "output_type": "stream",
     "text": [
      "Collecting cvzoneNote: you may need to restart the kernel to use updated packages.\n"
     ]
    },
    {
     "name": "stderr",
     "output_type": "stream",
     "text": [
      "WARNING: Ignoring invalid distribution -rotobuf (c:\\users\\sirik\\anaconda3\\lib\\site-packages)\n",
      "WARNING: Ignoring invalid distribution -rotobuf (c:\\users\\sirik\\anaconda3\\lib\\site-packages)\n",
      "WARNING: Ignoring invalid distribution -rotobuf (c:\\users\\sirik\\anaconda3\\lib\\site-packages)\n",
      "WARNING: Ignoring invalid distribution -rotobuf (c:\\users\\sirik\\anaconda3\\lib\\site-packages)\n",
      "WARNING: Ignoring invalid distribution -rotobuf (c:\\users\\sirik\\anaconda3\\lib\\site-packages)\n",
      "WARNING: Ignoring invalid distribution -rotobuf (c:\\users\\sirik\\anaconda3\\lib\\site-packages)\n",
      "WARNING: Ignoring invalid distribution -rotobuf (c:\\users\\sirik\\anaconda3\\lib\\site-packages)\n"
     ]
    },
    {
     "name": "stdout",
     "output_type": "stream",
     "text": [
      "\n",
      "  Downloading cvzone-1.5.6.tar.gz (12 kB)\n",
      "  Preparing metadata (setup.py): started\n",
      "  Preparing metadata (setup.py): finished with status 'done'\n",
      "Requirement already satisfied: opencv-python in c:\\users\\sirik\\anaconda3\\lib\\site-packages (from cvzone) (4.7.0.72)\n",
      "Requirement already satisfied: numpy in c:\\users\\sirik\\anaconda3\\lib\\site-packages (from cvzone) (1.23.5)\n",
      "Building wheels for collected packages: cvzone\n",
      "  Building wheel for cvzone (setup.py): started\n",
      "  Building wheel for cvzone (setup.py): finished with status 'done'\n",
      "  Created wheel for cvzone: filename=cvzone-1.5.6-py3-none-any.whl size=18760 sha256=650d9d2b5359a3afb8ea214fb211b1fe3d5a3a4e4e2b39fb5f47698a6987374d\n",
      "  Stored in directory: c:\\users\\sirik\\appdata\\local\\pip\\cache\\wheels\\6f\\ec\\e5\\c576c2f2fa138207498bbbfc8eefb1f0a2efbba7c847742948\n",
      "Successfully built cvzone\n",
      "Installing collected packages: cvzone\n",
      "Successfully installed cvzone-1.5.6\n"
     ]
    }
   ],
   "source": [
    "#pip install cvzone"
   ]
  },
  {
   "cell_type": "code",
   "execution_count": 1,
   "id": "cfd5c8f6",
   "metadata": {},
   "outputs": [],
   "source": [
    "import cv2\n",
    "import pickle\n",
    "\n",
    "#img= cv2.imread('carParkImg.png')"
   ]
  },
  {
   "cell_type": "markdown",
   "id": "dbc534ac",
   "metadata": {},
   "source": [
    "First, the code loads an image of the car park using cv2.imread(). The positions of the parking spaces are stored in the posList variable. If the file CarParkPos exists, it will be opened and its content will be loaded into posList using pickle.load(). If the file does not exist, posList will be initialized as an empty list."
   ]
  },
  {
   "cell_type": "code",
   "execution_count": 2,
   "id": "6184c75c",
   "metadata": {},
   "outputs": [],
   "source": [
    "#The cv2.rectangle function is a method in OpenCV (Open Source Computer Vision) library which is used to draw \n",
    "#a rectangle on an image.\n",
    "#cv2.rectangle(image, start_point, end_point, color, thickness)\n",
    "\n",
    "width, height = 107, 48\n",
    "\n",
    "try:\n",
    "    with open('CarParkPos','rb') as f:\n",
    "        posList= pickle.load(f)\n",
    "except:\n",
    "    posList= []  #to fetch position of the car image\n",
    "\n"
   ]
  },
  {
   "cell_type": "markdown",
   "id": "1a981cc2",
   "metadata": {},
   "source": [
    "The mouseClick() function is called whenever a mouse event occurs on the image. If the left mouse button is clicked, the (x, y) coordinates of the mouse click are appended to posList. If the right mouse button is clicked, the function searches through posList to find the parking space that was clicked and removes it using posList.pop(). The updated posList is saved to the file CarParkPos using pickle.dump()."
   ]
  },
  {
   "cell_type": "code",
   "execution_count": 3,
   "id": "cb229c23",
   "metadata": {},
   "outputs": [],
   "source": [
    "def mouseClick(events, x, y, flags, params):\n",
    "    if events == cv2.EVENT_LBUTTONDOWN:\n",
    "        posList.append((x,y))\n",
    "    if events == cv2.EVENT_RBUTTONDOWN:\n",
    "        #In Python, enumerate is a built-in function that returns an iterator that generates pairs of elements and their indices from an iterable (e.g. list, tuple, string, etc.).\n",
    "        for i, pos in enumerate(posList):\n",
    "            x1, y1=pos\n",
    "            if x1 < x < x1 + width and y1 < y < y1 + height:\n",
    "                posList.pop(i)  #pop whatever is in the i value\n",
    "     \n",
    "    with open('CarParkPos','wb') as f:\n",
    "        pickle.dump(posList, f)"
   ]
  },
  {
   "cell_type": "markdown",
   "id": "81872502",
   "metadata": {},
   "source": [
    "In the main loop, the image is displayed using cv2.imshow(). The positions of the parking spaces are drawn on the image using cv2.rectangle(). The cv2.setMouseCallback() function is used to call mouseClick() whenever a mouse event occurs on the image. The loop continues until a key is pressed, using cv2.waitKey()."
   ]
  },
  {
   "cell_type": "code",
   "execution_count": null,
   "id": "f29f961d",
   "metadata": {},
   "outputs": [],
   "source": [
    "#This code creates an infinite loop where a rectangle is drawn continuously on the img image using the cv2.rectangle function with the specified parameters. The rectangle starts from the top-left coordinates (50, 192) and ends at the bottom-right coordinates (157, 240), with a color specified as (255, 0, 255) which represents magenta. The thickness of the rectangle is set to 2 pixels.\n",
    "#Inside the loop, the modified img is displayed using the cv2.imshow function. The cv2.waitKey function is used to wait for a key event. The parameter 1 specifies that the window will be closed if any key\n",
    "\n",
    "while True:\n",
    "    img= cv2.imread('carParkImg.png')\n",
    "    for pos in posList:\n",
    "        cv2.rectangle(img,pos,(pos[0]+width,pos[1]+height),(255,0,255),2)\n",
    "    #cv2.rectangle(img,(50,192),(157,240),(255,0,255),2)\n",
    "    cv2.imshow(\"Image\",img)\n",
    "    cv2.setMouseCallback(\"Image\",mouseClick)\n",
    "    cv2.waitKey(1)"
   ]
  },
  {
   "cell_type": "code",
   "execution_count": null,
   "id": "2eb0bf04",
   "metadata": {},
   "outputs": [],
   "source": []
  }
 ],
 "metadata": {
  "kernelspec": {
   "display_name": "Python 3 (ipykernel)",
   "language": "python",
   "name": "python3"
  },
  "language_info": {
   "codemirror_mode": {
    "name": "ipython",
    "version": 3
   },
   "file_extension": ".py",
   "mimetype": "text/x-python",
   "name": "python",
   "nbconvert_exporter": "python",
   "pygments_lexer": "ipython3",
   "version": "3.9.16"
  }
 },
 "nbformat": 4,
 "nbformat_minor": 5
}
